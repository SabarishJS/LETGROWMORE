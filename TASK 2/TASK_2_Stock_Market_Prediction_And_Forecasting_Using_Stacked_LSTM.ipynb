{
  "nbformat": 4,
  "nbformat_minor": 0,
  "metadata": {
    "colab": {
      "provenance": []
    },
    "kernelspec": {
      "name": "python3",
      "display_name": "Python 3"
    },
    "language_info": {
      "name": "python"
    }
  },
  "cells": [
    {
      "cell_type": "code",
      "execution_count": 1,
      "metadata": {
        "id": "by596KoOJX1z"
      },
      "outputs": [],
      "source": [
        "import numpy as np\n",
        "import pandas as pd\n",
        "import datetime\n",
        "import math\n",
        "import matplotlib.pyplot as plt\n",
        "import seaborn as sns\n",
        "from sklearn.preprocessing import MinMaxScaler\n",
        "from tensorflow.keras.models import Sequential\n",
        "from tensorflow.keras.layers import Dense , LSTM\n",
        "from sklearn.metrics import mean_squared_error"
      ]
    },
    {
      "cell_type": "code",
      "source": [
        "Dataset_link='https://raw.githubusercontent.com/mwitiderrick/stockprice/master/NSE-TATAGLOBAL.csv'"
      ],
      "metadata": {
        "id": "OfbXuh4XJZ3u"
      },
      "execution_count": 2,
      "outputs": []
    },
    {
      "cell_type": "code",
      "source": [
        "df= pd.read_csv(Dataset_link, parse_dates=True,)\n",
        "df.reset_index()\n",
        "df.head(10)"
      ],
      "metadata": {
        "colab": {
          "base_uri": "https://localhost:8080/",
          "height": 363
        },
        "id": "wWELgz4nJjXF",
        "outputId": "93f8a29c-a336-4e67-a72b-3cfe1d7ce772"
      },
      "execution_count": 3,
      "outputs": [
        {
          "output_type": "execute_result",
          "data": {
            "text/plain": [
              "         Date    Open    High     Low    Last   Close  Total Trade Quantity  \\\n",
              "0  2018-09-28  234.05  235.95  230.20  233.50  233.75               3069914   \n",
              "1  2018-09-27  234.55  236.80  231.10  233.80  233.25               5082859   \n",
              "2  2018-09-26  240.00  240.00  232.50  235.00  234.25               2240909   \n",
              "3  2018-09-25  233.30  236.75  232.00  236.25  236.10               2349368   \n",
              "4  2018-09-24  233.55  239.20  230.75  234.00  233.30               3423509   \n",
              "5  2018-09-21  235.00  237.00  227.95  233.75  234.60               5395319   \n",
              "6  2018-09-19  235.95  237.20  233.45  234.60  234.90               1362058   \n",
              "7  2018-09-18  237.90  239.25  233.50  235.50  235.05               2614794   \n",
              "8  2018-09-17  233.15  238.00  230.25  236.40  236.60               3170894   \n",
              "9  2018-09-14  223.45  236.70  223.30  234.00  233.95               6377909   \n",
              "\n",
              "   Turnover (Lacs)  \n",
              "0          7162.35  \n",
              "1         11859.95  \n",
              "2          5248.60  \n",
              "3          5503.90  \n",
              "4          7999.55  \n",
              "5         12589.59  \n",
              "6          3202.78  \n",
              "7          6163.70  \n",
              "8          7445.41  \n",
              "9         14784.50  "
            ],
            "text/html": [
              "\n",
              "  <div id=\"df-618b946b-65b1-4bee-99fb-718311916f65\">\n",
              "    <div class=\"colab-df-container\">\n",
              "      <div>\n",
              "<style scoped>\n",
              "    .dataframe tbody tr th:only-of-type {\n",
              "        vertical-align: middle;\n",
              "    }\n",
              "\n",
              "    .dataframe tbody tr th {\n",
              "        vertical-align: top;\n",
              "    }\n",
              "\n",
              "    .dataframe thead th {\n",
              "        text-align: right;\n",
              "    }\n",
              "</style>\n",
              "<table border=\"1\" class=\"dataframe\">\n",
              "  <thead>\n",
              "    <tr style=\"text-align: right;\">\n",
              "      <th></th>\n",
              "      <th>Date</th>\n",
              "      <th>Open</th>\n",
              "      <th>High</th>\n",
              "      <th>Low</th>\n",
              "      <th>Last</th>\n",
              "      <th>Close</th>\n",
              "      <th>Total Trade Quantity</th>\n",
              "      <th>Turnover (Lacs)</th>\n",
              "    </tr>\n",
              "  </thead>\n",
              "  <tbody>\n",
              "    <tr>\n",
              "      <th>0</th>\n",
              "      <td>2018-09-28</td>\n",
              "      <td>234.05</td>\n",
              "      <td>235.95</td>\n",
              "      <td>230.20</td>\n",
              "      <td>233.50</td>\n",
              "      <td>233.75</td>\n",
              "      <td>3069914</td>\n",
              "      <td>7162.35</td>\n",
              "    </tr>\n",
              "    <tr>\n",
              "      <th>1</th>\n",
              "      <td>2018-09-27</td>\n",
              "      <td>234.55</td>\n",
              "      <td>236.80</td>\n",
              "      <td>231.10</td>\n",
              "      <td>233.80</td>\n",
              "      <td>233.25</td>\n",
              "      <td>5082859</td>\n",
              "      <td>11859.95</td>\n",
              "    </tr>\n",
              "    <tr>\n",
              "      <th>2</th>\n",
              "      <td>2018-09-26</td>\n",
              "      <td>240.00</td>\n",
              "      <td>240.00</td>\n",
              "      <td>232.50</td>\n",
              "      <td>235.00</td>\n",
              "      <td>234.25</td>\n",
              "      <td>2240909</td>\n",
              "      <td>5248.60</td>\n",
              "    </tr>\n",
              "    <tr>\n",
              "      <th>3</th>\n",
              "      <td>2018-09-25</td>\n",
              "      <td>233.30</td>\n",
              "      <td>236.75</td>\n",
              "      <td>232.00</td>\n",
              "      <td>236.25</td>\n",
              "      <td>236.10</td>\n",
              "      <td>2349368</td>\n",
              "      <td>5503.90</td>\n",
              "    </tr>\n",
              "    <tr>\n",
              "      <th>4</th>\n",
              "      <td>2018-09-24</td>\n",
              "      <td>233.55</td>\n",
              "      <td>239.20</td>\n",
              "      <td>230.75</td>\n",
              "      <td>234.00</td>\n",
              "      <td>233.30</td>\n",
              "      <td>3423509</td>\n",
              "      <td>7999.55</td>\n",
              "    </tr>\n",
              "    <tr>\n",
              "      <th>5</th>\n",
              "      <td>2018-09-21</td>\n",
              "      <td>235.00</td>\n",
              "      <td>237.00</td>\n",
              "      <td>227.95</td>\n",
              "      <td>233.75</td>\n",
              "      <td>234.60</td>\n",
              "      <td>5395319</td>\n",
              "      <td>12589.59</td>\n",
              "    </tr>\n",
              "    <tr>\n",
              "      <th>6</th>\n",
              "      <td>2018-09-19</td>\n",
              "      <td>235.95</td>\n",
              "      <td>237.20</td>\n",
              "      <td>233.45</td>\n",
              "      <td>234.60</td>\n",
              "      <td>234.90</td>\n",
              "      <td>1362058</td>\n",
              "      <td>3202.78</td>\n",
              "    </tr>\n",
              "    <tr>\n",
              "      <th>7</th>\n",
              "      <td>2018-09-18</td>\n",
              "      <td>237.90</td>\n",
              "      <td>239.25</td>\n",
              "      <td>233.50</td>\n",
              "      <td>235.50</td>\n",
              "      <td>235.05</td>\n",
              "      <td>2614794</td>\n",
              "      <td>6163.70</td>\n",
              "    </tr>\n",
              "    <tr>\n",
              "      <th>8</th>\n",
              "      <td>2018-09-17</td>\n",
              "      <td>233.15</td>\n",
              "      <td>238.00</td>\n",
              "      <td>230.25</td>\n",
              "      <td>236.40</td>\n",
              "      <td>236.60</td>\n",
              "      <td>3170894</td>\n",
              "      <td>7445.41</td>\n",
              "    </tr>\n",
              "    <tr>\n",
              "      <th>9</th>\n",
              "      <td>2018-09-14</td>\n",
              "      <td>223.45</td>\n",
              "      <td>236.70</td>\n",
              "      <td>223.30</td>\n",
              "      <td>234.00</td>\n",
              "      <td>233.95</td>\n",
              "      <td>6377909</td>\n",
              "      <td>14784.50</td>\n",
              "    </tr>\n",
              "  </tbody>\n",
              "</table>\n",
              "</div>\n",
              "      <button class=\"colab-df-convert\" onclick=\"convertToInteractive('df-618b946b-65b1-4bee-99fb-718311916f65')\"\n",
              "              title=\"Convert this dataframe to an interactive table.\"\n",
              "              style=\"display:none;\">\n",
              "        \n",
              "  <svg xmlns=\"http://www.w3.org/2000/svg\" height=\"24px\"viewBox=\"0 0 24 24\"\n",
              "       width=\"24px\">\n",
              "    <path d=\"M0 0h24v24H0V0z\" fill=\"none\"/>\n",
              "    <path d=\"M18.56 5.44l.94 2.06.94-2.06 2.06-.94-2.06-.94-.94-2.06-.94 2.06-2.06.94zm-11 1L8.5 8.5l.94-2.06 2.06-.94-2.06-.94L8.5 2.5l-.94 2.06-2.06.94zm10 10l.94 2.06.94-2.06 2.06-.94-2.06-.94-.94-2.06-.94 2.06-2.06.94z\"/><path d=\"M17.41 7.96l-1.37-1.37c-.4-.4-.92-.59-1.43-.59-.52 0-1.04.2-1.43.59L10.3 9.45l-7.72 7.72c-.78.78-.78 2.05 0 2.83L4 21.41c.39.39.9.59 1.41.59.51 0 1.02-.2 1.41-.59l7.78-7.78 2.81-2.81c.8-.78.8-2.07 0-2.86zM5.41 20L4 18.59l7.72-7.72 1.47 1.35L5.41 20z\"/>\n",
              "  </svg>\n",
              "      </button>\n",
              "      \n",
              "  <style>\n",
              "    .colab-df-container {\n",
              "      display:flex;\n",
              "      flex-wrap:wrap;\n",
              "      gap: 12px;\n",
              "    }\n",
              "\n",
              "    .colab-df-convert {\n",
              "      background-color: #E8F0FE;\n",
              "      border: none;\n",
              "      border-radius: 50%;\n",
              "      cursor: pointer;\n",
              "      display: none;\n",
              "      fill: #1967D2;\n",
              "      height: 32px;\n",
              "      padding: 0 0 0 0;\n",
              "      width: 32px;\n",
              "    }\n",
              "\n",
              "    .colab-df-convert:hover {\n",
              "      background-color: #E2EBFA;\n",
              "      box-shadow: 0px 1px 2px rgba(60, 64, 67, 0.3), 0px 1px 3px 1px rgba(60, 64, 67, 0.15);\n",
              "      fill: #174EA6;\n",
              "    }\n",
              "\n",
              "    [theme=dark] .colab-df-convert {\n",
              "      background-color: #3B4455;\n",
              "      fill: #D2E3FC;\n",
              "    }\n",
              "\n",
              "    [theme=dark] .colab-df-convert:hover {\n",
              "      background-color: #434B5C;\n",
              "      box-shadow: 0px 1px 3px 1px rgba(0, 0, 0, 0.15);\n",
              "      filter: drop-shadow(0px 1px 2px rgba(0, 0, 0, 0.3));\n",
              "      fill: #FFFFFF;\n",
              "    }\n",
              "  </style>\n",
              "\n",
              "      <script>\n",
              "        const buttonEl =\n",
              "          document.querySelector('#df-618b946b-65b1-4bee-99fb-718311916f65 button.colab-df-convert');\n",
              "        buttonEl.style.display =\n",
              "          google.colab.kernel.accessAllowed ? 'block' : 'none';\n",
              "\n",
              "        async function convertToInteractive(key) {\n",
              "          const element = document.querySelector('#df-618b946b-65b1-4bee-99fb-718311916f65');\n",
              "          const dataTable =\n",
              "            await google.colab.kernel.invokeFunction('convertToInteractive',\n",
              "                                                     [key], {});\n",
              "          if (!dataTable) return;\n",
              "\n",
              "          const docLinkHtml = 'Like what you see? Visit the ' +\n",
              "            '<a target=\"_blank\" href=https://colab.research.google.com/notebooks/data_table.ipynb>data table notebook</a>'\n",
              "            + ' to learn more about interactive tables.';\n",
              "          element.innerHTML = '';\n",
              "          dataTable['output_type'] = 'display_data';\n",
              "          await google.colab.output.renderOutput(dataTable, element);\n",
              "          const docLink = document.createElement('div');\n",
              "          docLink.innerHTML = docLinkHtml;\n",
              "          element.appendChild(docLink);\n",
              "        }\n",
              "      </script>\n",
              "    </div>\n",
              "  </div>\n",
              "  "
            ]
          },
          "metadata": {},
          "execution_count": 3
        }
      ]
    },
    {
      "cell_type": "code",
      "source": [
        "df.sample(10)"
      ],
      "metadata": {
        "colab": {
          "base_uri": "https://localhost:8080/",
          "height": 363
        },
        "id": "rtvtHddQJkyK",
        "outputId": "e9670135-566e-41b0-fe6c-b5d318e52a27"
      },
      "execution_count": 4,
      "outputs": [
        {
          "output_type": "execute_result",
          "data": {
            "text/plain": [
              "            Date    Open    High     Low    Last   Close  \\\n",
              "788   2015-07-23  139.95  142.20  139.40  140.85  140.85   \n",
              "46    2018-07-20  231.25  240.95  231.25  238.90  238.60   \n",
              "1502  2012-09-03  131.35  132.90  129.95  130.55  130.40   \n",
              "1799  2011-06-27   91.05   94.00   91.00   92.00   92.05   \n",
              "195   2017-12-14  288.00  288.25  279.20  284.50  284.30   \n",
              "1042  2014-07-09  158.00  159.60  152.75  155.20  154.95   \n",
              "52    2018-07-12  270.40  272.45  264.35  264.50  265.20   \n",
              "175   2018-01-12  315.05  328.35  315.00  325.95  325.75   \n",
              "461   2016-11-22  117.80  118.80  116.05  117.45  117.30   \n",
              "751   2015-09-14  124.10  124.50  121.65  124.10  124.05   \n",
              "\n",
              "      Total Trade Quantity  Turnover (Lacs)  \n",
              "788                2009103          2839.13  \n",
              "46                 3003282          7143.47  \n",
              "1502               1334353          1755.06  \n",
              "1799               1261290          1166.25  \n",
              "195                5575066         15810.93  \n",
              "1042               3488714          5442.65  \n",
              "52                 2250217          6045.37  \n",
              "175               14484043         46643.39  \n",
              "461                3411500          3996.57  \n",
              "751                 789201           970.86  "
            ],
            "text/html": [
              "\n",
              "  <div id=\"df-17d73a63-4119-48f9-8c3f-4fbd7dfa70e9\">\n",
              "    <div class=\"colab-df-container\">\n",
              "      <div>\n",
              "<style scoped>\n",
              "    .dataframe tbody tr th:only-of-type {\n",
              "        vertical-align: middle;\n",
              "    }\n",
              "\n",
              "    .dataframe tbody tr th {\n",
              "        vertical-align: top;\n",
              "    }\n",
              "\n",
              "    .dataframe thead th {\n",
              "        text-align: right;\n",
              "    }\n",
              "</style>\n",
              "<table border=\"1\" class=\"dataframe\">\n",
              "  <thead>\n",
              "    <tr style=\"text-align: right;\">\n",
              "      <th></th>\n",
              "      <th>Date</th>\n",
              "      <th>Open</th>\n",
              "      <th>High</th>\n",
              "      <th>Low</th>\n",
              "      <th>Last</th>\n",
              "      <th>Close</th>\n",
              "      <th>Total Trade Quantity</th>\n",
              "      <th>Turnover (Lacs)</th>\n",
              "    </tr>\n",
              "  </thead>\n",
              "  <tbody>\n",
              "    <tr>\n",
              "      <th>788</th>\n",
              "      <td>2015-07-23</td>\n",
              "      <td>139.95</td>\n",
              "      <td>142.20</td>\n",
              "      <td>139.40</td>\n",
              "      <td>140.85</td>\n",
              "      <td>140.85</td>\n",
              "      <td>2009103</td>\n",
              "      <td>2839.13</td>\n",
              "    </tr>\n",
              "    <tr>\n",
              "      <th>46</th>\n",
              "      <td>2018-07-20</td>\n",
              "      <td>231.25</td>\n",
              "      <td>240.95</td>\n",
              "      <td>231.25</td>\n",
              "      <td>238.90</td>\n",
              "      <td>238.60</td>\n",
              "      <td>3003282</td>\n",
              "      <td>7143.47</td>\n",
              "    </tr>\n",
              "    <tr>\n",
              "      <th>1502</th>\n",
              "      <td>2012-09-03</td>\n",
              "      <td>131.35</td>\n",
              "      <td>132.90</td>\n",
              "      <td>129.95</td>\n",
              "      <td>130.55</td>\n",
              "      <td>130.40</td>\n",
              "      <td>1334353</td>\n",
              "      <td>1755.06</td>\n",
              "    </tr>\n",
              "    <tr>\n",
              "      <th>1799</th>\n",
              "      <td>2011-06-27</td>\n",
              "      <td>91.05</td>\n",
              "      <td>94.00</td>\n",
              "      <td>91.00</td>\n",
              "      <td>92.00</td>\n",
              "      <td>92.05</td>\n",
              "      <td>1261290</td>\n",
              "      <td>1166.25</td>\n",
              "    </tr>\n",
              "    <tr>\n",
              "      <th>195</th>\n",
              "      <td>2017-12-14</td>\n",
              "      <td>288.00</td>\n",
              "      <td>288.25</td>\n",
              "      <td>279.20</td>\n",
              "      <td>284.50</td>\n",
              "      <td>284.30</td>\n",
              "      <td>5575066</td>\n",
              "      <td>15810.93</td>\n",
              "    </tr>\n",
              "    <tr>\n",
              "      <th>1042</th>\n",
              "      <td>2014-07-09</td>\n",
              "      <td>158.00</td>\n",
              "      <td>159.60</td>\n",
              "      <td>152.75</td>\n",
              "      <td>155.20</td>\n",
              "      <td>154.95</td>\n",
              "      <td>3488714</td>\n",
              "      <td>5442.65</td>\n",
              "    </tr>\n",
              "    <tr>\n",
              "      <th>52</th>\n",
              "      <td>2018-07-12</td>\n",
              "      <td>270.40</td>\n",
              "      <td>272.45</td>\n",
              "      <td>264.35</td>\n",
              "      <td>264.50</td>\n",
              "      <td>265.20</td>\n",
              "      <td>2250217</td>\n",
              "      <td>6045.37</td>\n",
              "    </tr>\n",
              "    <tr>\n",
              "      <th>175</th>\n",
              "      <td>2018-01-12</td>\n",
              "      <td>315.05</td>\n",
              "      <td>328.35</td>\n",
              "      <td>315.00</td>\n",
              "      <td>325.95</td>\n",
              "      <td>325.75</td>\n",
              "      <td>14484043</td>\n",
              "      <td>46643.39</td>\n",
              "    </tr>\n",
              "    <tr>\n",
              "      <th>461</th>\n",
              "      <td>2016-11-22</td>\n",
              "      <td>117.80</td>\n",
              "      <td>118.80</td>\n",
              "      <td>116.05</td>\n",
              "      <td>117.45</td>\n",
              "      <td>117.30</td>\n",
              "      <td>3411500</td>\n",
              "      <td>3996.57</td>\n",
              "    </tr>\n",
              "    <tr>\n",
              "      <th>751</th>\n",
              "      <td>2015-09-14</td>\n",
              "      <td>124.10</td>\n",
              "      <td>124.50</td>\n",
              "      <td>121.65</td>\n",
              "      <td>124.10</td>\n",
              "      <td>124.05</td>\n",
              "      <td>789201</td>\n",
              "      <td>970.86</td>\n",
              "    </tr>\n",
              "  </tbody>\n",
              "</table>\n",
              "</div>\n",
              "      <button class=\"colab-df-convert\" onclick=\"convertToInteractive('df-17d73a63-4119-48f9-8c3f-4fbd7dfa70e9')\"\n",
              "              title=\"Convert this dataframe to an interactive table.\"\n",
              "              style=\"display:none;\">\n",
              "        \n",
              "  <svg xmlns=\"http://www.w3.org/2000/svg\" height=\"24px\"viewBox=\"0 0 24 24\"\n",
              "       width=\"24px\">\n",
              "    <path d=\"M0 0h24v24H0V0z\" fill=\"none\"/>\n",
              "    <path d=\"M18.56 5.44l.94 2.06.94-2.06 2.06-.94-2.06-.94-.94-2.06-.94 2.06-2.06.94zm-11 1L8.5 8.5l.94-2.06 2.06-.94-2.06-.94L8.5 2.5l-.94 2.06-2.06.94zm10 10l.94 2.06.94-2.06 2.06-.94-2.06-.94-.94-2.06-.94 2.06-2.06.94z\"/><path d=\"M17.41 7.96l-1.37-1.37c-.4-.4-.92-.59-1.43-.59-.52 0-1.04.2-1.43.59L10.3 9.45l-7.72 7.72c-.78.78-.78 2.05 0 2.83L4 21.41c.39.39.9.59 1.41.59.51 0 1.02-.2 1.41-.59l7.78-7.78 2.81-2.81c.8-.78.8-2.07 0-2.86zM5.41 20L4 18.59l7.72-7.72 1.47 1.35L5.41 20z\"/>\n",
              "  </svg>\n",
              "      </button>\n",
              "      \n",
              "  <style>\n",
              "    .colab-df-container {\n",
              "      display:flex;\n",
              "      flex-wrap:wrap;\n",
              "      gap: 12px;\n",
              "    }\n",
              "\n",
              "    .colab-df-convert {\n",
              "      background-color: #E8F0FE;\n",
              "      border: none;\n",
              "      border-radius: 50%;\n",
              "      cursor: pointer;\n",
              "      display: none;\n",
              "      fill: #1967D2;\n",
              "      height: 32px;\n",
              "      padding: 0 0 0 0;\n",
              "      width: 32px;\n",
              "    }\n",
              "\n",
              "    .colab-df-convert:hover {\n",
              "      background-color: #E2EBFA;\n",
              "      box-shadow: 0px 1px 2px rgba(60, 64, 67, 0.3), 0px 1px 3px 1px rgba(60, 64, 67, 0.15);\n",
              "      fill: #174EA6;\n",
              "    }\n",
              "\n",
              "    [theme=dark] .colab-df-convert {\n",
              "      background-color: #3B4455;\n",
              "      fill: #D2E3FC;\n",
              "    }\n",
              "\n",
              "    [theme=dark] .colab-df-convert:hover {\n",
              "      background-color: #434B5C;\n",
              "      box-shadow: 0px 1px 3px 1px rgba(0, 0, 0, 0.15);\n",
              "      filter: drop-shadow(0px 1px 2px rgba(0, 0, 0, 0.3));\n",
              "      fill: #FFFFFF;\n",
              "    }\n",
              "  </style>\n",
              "\n",
              "      <script>\n",
              "        const buttonEl =\n",
              "          document.querySelector('#df-17d73a63-4119-48f9-8c3f-4fbd7dfa70e9 button.colab-df-convert');\n",
              "        buttonEl.style.display =\n",
              "          google.colab.kernel.accessAllowed ? 'block' : 'none';\n",
              "\n",
              "        async function convertToInteractive(key) {\n",
              "          const element = document.querySelector('#df-17d73a63-4119-48f9-8c3f-4fbd7dfa70e9');\n",
              "          const dataTable =\n",
              "            await google.colab.kernel.invokeFunction('convertToInteractive',\n",
              "                                                     [key], {});\n",
              "          if (!dataTable) return;\n",
              "\n",
              "          const docLinkHtml = 'Like what you see? Visit the ' +\n",
              "            '<a target=\"_blank\" href=https://colab.research.google.com/notebooks/data_table.ipynb>data table notebook</a>'\n",
              "            + ' to learn more about interactive tables.';\n",
              "          element.innerHTML = '';\n",
              "          dataTable['output_type'] = 'display_data';\n",
              "          await google.colab.output.renderOutput(dataTable, element);\n",
              "          const docLink = document.createElement('div');\n",
              "          docLink.innerHTML = docLinkHtml;\n",
              "          element.appendChild(docLink);\n",
              "        }\n",
              "      </script>\n",
              "    </div>\n",
              "  </div>\n",
              "  "
            ]
          },
          "metadata": {},
          "execution_count": 4
        }
      ]
    },
    {
      "cell_type": "code",
      "source": [
        "df.columns"
      ],
      "metadata": {
        "colab": {
          "base_uri": "https://localhost:8080/"
        },
        "id": "ksDF7iJAJnXR",
        "outputId": "a72134d2-c543-44c7-96eb-5e55b7b01446"
      },
      "execution_count": 5,
      "outputs": [
        {
          "output_type": "execute_result",
          "data": {
            "text/plain": [
              "Index(['Date', 'Open', 'High', 'Low', 'Last', 'Close', 'Total Trade Quantity',\n",
              "       'Turnover (Lacs)'],\n",
              "      dtype='object')"
            ]
          },
          "metadata": {},
          "execution_count": 5
        }
      ]
    },
    {
      "cell_type": "code",
      "source": [
        "df.shape"
      ],
      "metadata": {
        "colab": {
          "base_uri": "https://localhost:8080/"
        },
        "id": "LzZSq4OQJo5r",
        "outputId": "babd1014-a7c8-4967-ec7a-c1cf05074a94"
      },
      "execution_count": 6,
      "outputs": [
        {
          "output_type": "execute_result",
          "data": {
            "text/plain": [
              "(2035, 8)"
            ]
          },
          "metadata": {},
          "execution_count": 6
        }
      ]
    },
    {
      "cell_type": "code",
      "source": [
        "df.info()"
      ],
      "metadata": {
        "colab": {
          "base_uri": "https://localhost:8080/"
        },
        "id": "gHCVykAYJqNF",
        "outputId": "7a401ae5-a115-4ed2-a261-c0122f0da9d1"
      },
      "execution_count": 7,
      "outputs": [
        {
          "output_type": "stream",
          "name": "stdout",
          "text": [
            "<class 'pandas.core.frame.DataFrame'>\n",
            "RangeIndex: 2035 entries, 0 to 2034\n",
            "Data columns (total 8 columns):\n",
            " #   Column                Non-Null Count  Dtype  \n",
            "---  ------                --------------  -----  \n",
            " 0   Date                  2035 non-null   object \n",
            " 1   Open                  2035 non-null   float64\n",
            " 2   High                  2035 non-null   float64\n",
            " 3   Low                   2035 non-null   float64\n",
            " 4   Last                  2035 non-null   float64\n",
            " 5   Close                 2035 non-null   float64\n",
            " 6   Total Trade Quantity  2035 non-null   int64  \n",
            " 7   Turnover (Lacs)       2035 non-null   float64\n",
            "dtypes: float64(6), int64(1), object(1)\n",
            "memory usage: 127.3+ KB\n"
          ]
        }
      ]
    },
    {
      "cell_type": "code",
      "source": [
        "df.isnull().sum()"
      ],
      "metadata": {
        "colab": {
          "base_uri": "https://localhost:8080/"
        },
        "id": "o1_yuWkjJrn5",
        "outputId": "a3e61956-e1e3-4044-dfee-f3a9d7dc2b2b"
      },
      "execution_count": 8,
      "outputs": [
        {
          "output_type": "execute_result",
          "data": {
            "text/plain": [
              "Date                    0\n",
              "Open                    0\n",
              "High                    0\n",
              "Low                     0\n",
              "Last                    0\n",
              "Close                   0\n",
              "Total Trade Quantity    0\n",
              "Turnover (Lacs)         0\n",
              "dtype: int64"
            ]
          },
          "metadata": {},
          "execution_count": 8
        }
      ]
    },
    {
      "cell_type": "code",
      "source": [
        "df.describe()"
      ],
      "metadata": {
        "colab": {
          "base_uri": "https://localhost:8080/",
          "height": 300
        },
        "id": "GvjUb-uqJsqD",
        "outputId": "6e6d8163-8dfe-43cd-b4c9-2b92701f86ef"
      },
      "execution_count": 9,
      "outputs": [
        {
          "output_type": "execute_result",
          "data": {
            "text/plain": [
              "              Open         High          Low         Last       Close  \\\n",
              "count  2035.000000  2035.000000  2035.000000  2035.000000  2035.00000   \n",
              "mean    149.713735   151.992826   147.293931   149.474251   149.45027   \n",
              "std      48.664509    49.413109    47.931958    48.732570    48.71204   \n",
              "min      81.100000    82.800000    80.000000    81.000000    80.95000   \n",
              "25%     120.025000   122.100000   118.300000   120.075000   120.05000   \n",
              "50%     141.500000   143.400000   139.600000   141.100000   141.25000   \n",
              "75%     157.175000   159.400000   155.150000   156.925000   156.90000   \n",
              "max     327.700000   328.750000   321.650000   325.950000   325.75000   \n",
              "\n",
              "       Total Trade Quantity  Turnover (Lacs)  \n",
              "count          2.035000e+03      2035.000000  \n",
              "mean           2.335681e+06      3899.980565  \n",
              "std            2.091778e+06      4570.767877  \n",
              "min            3.961000e+04        37.040000  \n",
              "25%            1.146444e+06      1427.460000  \n",
              "50%            1.783456e+06      2512.030000  \n",
              "75%            2.813594e+06      4539.015000  \n",
              "max            2.919102e+07     55755.080000  "
            ],
            "text/html": [
              "\n",
              "  <div id=\"df-aabc9785-0819-4b95-83b5-1a344cd7cd41\">\n",
              "    <div class=\"colab-df-container\">\n",
              "      <div>\n",
              "<style scoped>\n",
              "    .dataframe tbody tr th:only-of-type {\n",
              "        vertical-align: middle;\n",
              "    }\n",
              "\n",
              "    .dataframe tbody tr th {\n",
              "        vertical-align: top;\n",
              "    }\n",
              "\n",
              "    .dataframe thead th {\n",
              "        text-align: right;\n",
              "    }\n",
              "</style>\n",
              "<table border=\"1\" class=\"dataframe\">\n",
              "  <thead>\n",
              "    <tr style=\"text-align: right;\">\n",
              "      <th></th>\n",
              "      <th>Open</th>\n",
              "      <th>High</th>\n",
              "      <th>Low</th>\n",
              "      <th>Last</th>\n",
              "      <th>Close</th>\n",
              "      <th>Total Trade Quantity</th>\n",
              "      <th>Turnover (Lacs)</th>\n",
              "    </tr>\n",
              "  </thead>\n",
              "  <tbody>\n",
              "    <tr>\n",
              "      <th>count</th>\n",
              "      <td>2035.000000</td>\n",
              "      <td>2035.000000</td>\n",
              "      <td>2035.000000</td>\n",
              "      <td>2035.000000</td>\n",
              "      <td>2035.00000</td>\n",
              "      <td>2.035000e+03</td>\n",
              "      <td>2035.000000</td>\n",
              "    </tr>\n",
              "    <tr>\n",
              "      <th>mean</th>\n",
              "      <td>149.713735</td>\n",
              "      <td>151.992826</td>\n",
              "      <td>147.293931</td>\n",
              "      <td>149.474251</td>\n",
              "      <td>149.45027</td>\n",
              "      <td>2.335681e+06</td>\n",
              "      <td>3899.980565</td>\n",
              "    </tr>\n",
              "    <tr>\n",
              "      <th>std</th>\n",
              "      <td>48.664509</td>\n",
              "      <td>49.413109</td>\n",
              "      <td>47.931958</td>\n",
              "      <td>48.732570</td>\n",
              "      <td>48.71204</td>\n",
              "      <td>2.091778e+06</td>\n",
              "      <td>4570.767877</td>\n",
              "    </tr>\n",
              "    <tr>\n",
              "      <th>min</th>\n",
              "      <td>81.100000</td>\n",
              "      <td>82.800000</td>\n",
              "      <td>80.000000</td>\n",
              "      <td>81.000000</td>\n",
              "      <td>80.95000</td>\n",
              "      <td>3.961000e+04</td>\n",
              "      <td>37.040000</td>\n",
              "    </tr>\n",
              "    <tr>\n",
              "      <th>25%</th>\n",
              "      <td>120.025000</td>\n",
              "      <td>122.100000</td>\n",
              "      <td>118.300000</td>\n",
              "      <td>120.075000</td>\n",
              "      <td>120.05000</td>\n",
              "      <td>1.146444e+06</td>\n",
              "      <td>1427.460000</td>\n",
              "    </tr>\n",
              "    <tr>\n",
              "      <th>50%</th>\n",
              "      <td>141.500000</td>\n",
              "      <td>143.400000</td>\n",
              "      <td>139.600000</td>\n",
              "      <td>141.100000</td>\n",
              "      <td>141.25000</td>\n",
              "      <td>1.783456e+06</td>\n",
              "      <td>2512.030000</td>\n",
              "    </tr>\n",
              "    <tr>\n",
              "      <th>75%</th>\n",
              "      <td>157.175000</td>\n",
              "      <td>159.400000</td>\n",
              "      <td>155.150000</td>\n",
              "      <td>156.925000</td>\n",
              "      <td>156.90000</td>\n",
              "      <td>2.813594e+06</td>\n",
              "      <td>4539.015000</td>\n",
              "    </tr>\n",
              "    <tr>\n",
              "      <th>max</th>\n",
              "      <td>327.700000</td>\n",
              "      <td>328.750000</td>\n",
              "      <td>321.650000</td>\n",
              "      <td>325.950000</td>\n",
              "      <td>325.75000</td>\n",
              "      <td>2.919102e+07</td>\n",
              "      <td>55755.080000</td>\n",
              "    </tr>\n",
              "  </tbody>\n",
              "</table>\n",
              "</div>\n",
              "      <button class=\"colab-df-convert\" onclick=\"convertToInteractive('df-aabc9785-0819-4b95-83b5-1a344cd7cd41')\"\n",
              "              title=\"Convert this dataframe to an interactive table.\"\n",
              "              style=\"display:none;\">\n",
              "        \n",
              "  <svg xmlns=\"http://www.w3.org/2000/svg\" height=\"24px\"viewBox=\"0 0 24 24\"\n",
              "       width=\"24px\">\n",
              "    <path d=\"M0 0h24v24H0V0z\" fill=\"none\"/>\n",
              "    <path d=\"M18.56 5.44l.94 2.06.94-2.06 2.06-.94-2.06-.94-.94-2.06-.94 2.06-2.06.94zm-11 1L8.5 8.5l.94-2.06 2.06-.94-2.06-.94L8.5 2.5l-.94 2.06-2.06.94zm10 10l.94 2.06.94-2.06 2.06-.94-2.06-.94-.94-2.06-.94 2.06-2.06.94z\"/><path d=\"M17.41 7.96l-1.37-1.37c-.4-.4-.92-.59-1.43-.59-.52 0-1.04.2-1.43.59L10.3 9.45l-7.72 7.72c-.78.78-.78 2.05 0 2.83L4 21.41c.39.39.9.59 1.41.59.51 0 1.02-.2 1.41-.59l7.78-7.78 2.81-2.81c.8-.78.8-2.07 0-2.86zM5.41 20L4 18.59l7.72-7.72 1.47 1.35L5.41 20z\"/>\n",
              "  </svg>\n",
              "      </button>\n",
              "      \n",
              "  <style>\n",
              "    .colab-df-container {\n",
              "      display:flex;\n",
              "      flex-wrap:wrap;\n",
              "      gap: 12px;\n",
              "    }\n",
              "\n",
              "    .colab-df-convert {\n",
              "      background-color: #E8F0FE;\n",
              "      border: none;\n",
              "      border-radius: 50%;\n",
              "      cursor: pointer;\n",
              "      display: none;\n",
              "      fill: #1967D2;\n",
              "      height: 32px;\n",
              "      padding: 0 0 0 0;\n",
              "      width: 32px;\n",
              "    }\n",
              "\n",
              "    .colab-df-convert:hover {\n",
              "      background-color: #E2EBFA;\n",
              "      box-shadow: 0px 1px 2px rgba(60, 64, 67, 0.3), 0px 1px 3px 1px rgba(60, 64, 67, 0.15);\n",
              "      fill: #174EA6;\n",
              "    }\n",
              "\n",
              "    [theme=dark] .colab-df-convert {\n",
              "      background-color: #3B4455;\n",
              "      fill: #D2E3FC;\n",
              "    }\n",
              "\n",
              "    [theme=dark] .colab-df-convert:hover {\n",
              "      background-color: #434B5C;\n",
              "      box-shadow: 0px 1px 3px 1px rgba(0, 0, 0, 0.15);\n",
              "      filter: drop-shadow(0px 1px 2px rgba(0, 0, 0, 0.3));\n",
              "      fill: #FFFFFF;\n",
              "    }\n",
              "  </style>\n",
              "\n",
              "      <script>\n",
              "        const buttonEl =\n",
              "          document.querySelector('#df-aabc9785-0819-4b95-83b5-1a344cd7cd41 button.colab-df-convert');\n",
              "        buttonEl.style.display =\n",
              "          google.colab.kernel.accessAllowed ? 'block' : 'none';\n",
              "\n",
              "        async function convertToInteractive(key) {\n",
              "          const element = document.querySelector('#df-aabc9785-0819-4b95-83b5-1a344cd7cd41');\n",
              "          const dataTable =\n",
              "            await google.colab.kernel.invokeFunction('convertToInteractive',\n",
              "                                                     [key], {});\n",
              "          if (!dataTable) return;\n",
              "\n",
              "          const docLinkHtml = 'Like what you see? Visit the ' +\n",
              "            '<a target=\"_blank\" href=https://colab.research.google.com/notebooks/data_table.ipynb>data table notebook</a>'\n",
              "            + ' to learn more about interactive tables.';\n",
              "          element.innerHTML = '';\n",
              "          dataTable['output_type'] = 'display_data';\n",
              "          await google.colab.output.renderOutput(dataTable, element);\n",
              "          const docLink = document.createElement('div');\n",
              "          docLink.innerHTML = docLinkHtml;\n",
              "          element.appendChild(docLink);\n",
              "        }\n",
              "      </script>\n",
              "    </div>\n",
              "  </div>\n",
              "  "
            ]
          },
          "metadata": {},
          "execution_count": 9
        }
      ]
    },
    {
      "cell_type": "code",
      "source": [
        "plt.figure(figsize=(10,6))\n",
        "df['Close'].plot(kind='line',figsize=(16,7),color='r',label=\"Closing Price\")\n",
        "\n",
        "plt.ylabel(\"Price\")\n",
        "plt.legend(loc=\"upper right\")\n",
        "plt.title(\"Change in closing price over the years\")\n",
        "plt.grid()"
      ],
      "metadata": {
        "colab": {
          "base_uri": "https://localhost:8080/",
          "height": 444
        },
        "id": "OoIroiJ1J0xK",
        "outputId": "6731315c-3861-4e59-ed5f-4a518e888f31"
      },
      "execution_count": 10,
      "outputs": [
        {
          "output_type": "display_data",
          "data": {
            "text/plain": [
              "<Figure size 1152x504 with 1 Axes>"
            ],
            "image/png": "[encoded data removed]"
          },
          "metadata": {
            "needs_background": "light"
          }
        }
      ]
    },
    {
      "cell_type": "code",
      "source": [
        "plt.figure(figsize=(10,6))\n",
        "df['Open'].plot(kind='line',figsize=(16,7),color='y',label=\"Opening Price\")\n",
        "\n",
        "plt.ylabel(\"Price\")\n",
        "plt.legend(loc=\"upper left\")\n",
        "plt.title(\"Change in opening price over the years\")\n",
        "plt.grid()"
      ],
      "metadata": {
        "colab": {
          "base_uri": "https://localhost:8080/",
          "height": 444
        },
        "id": "eMcntCk1J2sU",
        "outputId": "06152962-f22c-40a2-c48f-faa57d66f1b8"
      },
      "execution_count": 11,
      "outputs": [
        {
          "output_type": "display_data",
          "data": {
            "text/plain": [
              "<Figure size 1152x504 with 1 Axes>"
            ],
            "image/png": "[encoded data removed]"
          },
          "metadata": {
            "needs_background": "light"
          }
        }
      ]
    },
    {
      "cell_type": "code",
      "source": [
        "df1=df.reset_index()['Close']\n",
        "df1"
      ],
      "metadata": {
        "colab": {
          "base_uri": "https://localhost:8080/"
        },
        "id": "gFyhAa2wJ3-D",
        "outputId": "b97c1427-332b-4c8e-f292-255d3b36f41e"
      },
      "execution_count": 12,
      "outputs": [
        {
          "output_type": "execute_result",
          "data": {
            "text/plain": [
              "0       233.75\n",
              "1       233.25\n",
              "2       234.25\n",
              "3       236.10\n",
              "4       233.30\n",
              "         ...  \n",
              "2030    118.65\n",
              "2031    117.60\n",
              "2032    120.65\n",
              "2033    120.90\n",
              "2034    121.55\n",
              "Name: Close, Length: 2035, dtype: float64"
            ]
          },
          "metadata": {},
          "execution_count": 12
        }
      ]
    },
    {
      "cell_type": "code",
      "source": [
        "plt.figure(figsize=(12,6))\n",
        "sns.heatmap(df.corr(),annot=True,cmap='BuPu')"
      ],
      "metadata": {
        "colab": {
          "base_uri": "https://localhost:8080/",
          "height": 485
        },
        "id": "iwwITlK-J5a8",
        "outputId": "5fe0e190-cf04-4fa1-8652-1bc22faf2716"
      },
      "execution_count": 13,
      "outputs": [
        {
          "output_type": "execute_result",
          "data": {
            "text/plain": [
              "<matplotlib.axes._subplots.AxesSubplot at 0x7f100566c100>"
            ]
          },
          "metadata": {},
          "execution_count": 13
        },
        {
          "output_type": "display_data",
          "data": {
            "text/plain": [
              "<Figure size 864x432 with 2 Axes>"
            ],
            "image/png": "[encoded data removed]"
          },
          "metadata": {
            "needs_background": "light"
          }
        }
      ]
    },
    {
      "cell_type": "code",
      "source": [
        "plt.figure(figsize=(11,5))\n",
        "plt.subplot(1,2,1)\n",
        "sns.boxplot(data=df,y='Total Trade Quantity',color='green')\n",
        "plt.subplot(1,2,2)\n",
        "sns.boxplot(data=df,y='Turnover (Lacs)',color='red')"
      ],
      "metadata": {
        "colab": {
          "base_uri": "https://localhost:8080/",
          "height": 317
        },
        "id": "DXAAo3RLJ9fT",
        "outputId": "11a7220f-9173-438d-df37-b6f67a0bc899"
      },
      "execution_count": 14,
      "outputs": [
        {
          "output_type": "display_data",
          "data": {
            "text/plain": [
              "<Figure size 792x360 with 2 Axes>"
            ],
            "image/png": "[encoded data removed]"
          },
          "metadata": {
            "needs_background": "light"
          }
        }
      ]
    },
    {
      "cell_type": "code",
      "source": [
        "fig=plt.figure(figsize=(7,6))\n",
        "plt.scatter(df['Total Trade Quantity'],df['Turnover (Lacs)'], alpha=0.5, edgecolor='r', color='cyan')\n",
        "plt.xlabel(\"Trade Quantity (in 100000)\")\n",
        "plt.ylabel(\"Turnover (in lacs)\")\n",
        "plt.title(\" Selling Units Vs Turnover\")\n",
        "plt.show()"
      ],
      "metadata": {
        "colab": {
          "base_uri": "https://localhost:8080/",
          "height": 404
        },
        "id": "S3BRqZczJ_gj",
        "outputId": "d7a3f88d-3828-4aef-8157-ab35709d1889"
      },
      "execution_count": 15,
      "outputs": [
        {
          "output_type": "display_data",
          "data": {
            "text/plain": [
              "<Figure size 504x432 with 1 Axes>"
            ],
            "image/png": "[encoded data removed]"
          },
          "metadata": {
            "needs_background": "light"
          }
        }
      ]
    },
    {
      "cell_type": "code",
      "source": [
        "training_set= df[['Open']]\n",
        "training_set=pd.DataFrame(training_set)\n",
        "training_set"
      ],
      "metadata": {
        "colab": {
          "base_uri": "https://localhost:8080/",
          "height": 424
        },
        "id": "Quq2zSQBKBbG",
        "outputId": "8d79471a-6671-4a39-b3ed-c1217b9bbeff"
      },
      "execution_count": 16,
      "outputs": [
        {
          "output_type": "execute_result",
          "data": {
            "text/plain": [
              "        Open\n",
              "0     234.05\n",
              "1     234.55\n",
              "2     240.00\n",
              "3     233.30\n",
              "4     233.55\n",
              "...      ...\n",
              "2030  117.60\n",
              "2031  120.10\n",
              "2032  121.80\n",
              "2033  120.30\n",
              "2034  122.10\n",
              "\n",
              "[2035 rows x 1 columns]"
            ],
            "text/html": [
              "\n",
              "  <div id=\"df-ff160105-3af8-441b-abf2-13aee0e3699f\">\n",
              "    <div class=\"colab-df-container\">\n",
              "      <div>\n",
              "<style scoped>\n",
              "    .dataframe tbody tr th:only-of-type {\n",
              "        vertical-align: middle;\n",
              "    }\n",
              "\n",
              "    .dataframe tbody tr th {\n",
              "        vertical-align: top;\n",
              "    }\n",
              "\n",
              "    .dataframe thead th {\n",
              "        text-align: right;\n",
              "    }\n",
              "</style>\n",
              "<table border=\"1\" class=\"dataframe\">\n",
              "  <thead>\n",
              "    <tr style=\"text-align: right;\">\n",
              "      <th></th>\n",
              "      <th>Open</th>\n",
              "    </tr>\n",
              "  </thead>\n",
              "  <tbody>\n",
              "    <tr>\n",
              "      <th>0</th>\n",
              "      <td>234.05</td>\n",
              "    </tr>\n",
              "    <tr>\n",
              "      <th>1</th>\n",
              "      <td>234.55</td>\n",
              "    </tr>\n",
              "    <tr>\n",
              "      <th>2</th>\n",
              "      <td>240.00</td>\n",
              "    </tr>\n",
              "    <tr>\n",
              "      <th>3</th>\n",
              "      <td>233.30</td>\n",
              "    </tr>\n",
              "    <tr>\n",
              "      <th>4</th>\n",
              "      <td>233.55</td>\n",
              "    </tr>\n",
              "    <tr>\n",
              "      <th>...</th>\n",
              "      <td>...</td>\n",
              "    </tr>\n",
              "    <tr>\n",
              "      <th>2030</th>\n",
              "      <td>117.60</td>\n",
              "    </tr>\n",
              "    <tr>\n",
              "      <th>2031</th>\n",
              "      <td>120.10</td>\n",
              "    </tr>\n",
              "    <tr>\n",
              "      <th>2032</th>\n",
              "      <td>121.80</td>\n",
              "    </tr>\n",
              "    <tr>\n",
              "      <th>2033</th>\n",
              "      <td>120.30</td>\n",
              "    </tr>\n",
              "    <tr>\n",
              "      <th>2034</th>\n",
              "      <td>122.10</td>\n",
              "    </tr>\n",
              "  </tbody>\n",
              "</table>\n",
              "<p>2035 rows × 1 columns</p>\n",
              "</div>\n",
              "      <button class=\"colab-df-convert\" onclick=\"convertToInteractive('df-ff160105-3af8-441b-abf2-13aee0e3699f')\"\n",
              "              title=\"Convert this dataframe to an interactive table.\"\n",
              "              style=\"display:none;\">\n",
              "        \n",
              "  <svg xmlns=\"http://www.w3.org/2000/svg\" height=\"24px\"viewBox=\"0 0 24 24\"\n",
              "       width=\"24px\">\n",
              "    <path d=\"M0 0h24v24H0V0z\" fill=\"none\"/>\n",
              "    <path d=\"M18.56 5.44l.94 2.06.94-2.06 2.06-.94-2.06-.94-.94-2.06-.94 2.06-2.06.94zm-11 1L8.5 8.5l.94-2.06 2.06-.94-2.06-.94L8.5 2.5l-.94 2.06-2.06.94zm10 10l.94 2.06.94-2.06 2.06-.94-2.06-.94-.94-2.06-.94 2.06-2.06.94z\"/><path d=\"M17.41 7.96l-1.37-1.37c-.4-.4-.92-.59-1.43-.59-.52 0-1.04.2-1.43.59L10.3 9.45l-7.72 7.72c-.78.78-.78 2.05 0 2.83L4 21.41c.39.39.9.59 1.41.59.51 0 1.02-.2 1.41-.59l7.78-7.78 2.81-2.81c.8-.78.8-2.07 0-2.86zM5.41 20L4 18.59l7.72-7.72 1.47 1.35L5.41 20z\"/>\n",
              "  </svg>\n",
              "      </button>\n",
              "      \n",
              "  <style>\n",
              "    .colab-df-container {\n",
              "      display:flex;\n",
              "      flex-wrap:wrap;\n",
              "      gap: 12px;\n",
              "    }\n",
              "\n",
              "    .colab-df-convert {\n",
              "      background-color: #E8F0FE;\n",
              "      border: none;\n",
              "      border-radius: 50%;\n",
              "      cursor: pointer;\n",
              "      display: none;\n",
              "      fill: #1967D2;\n",
              "      height: 32px;\n",
              "      padding: 0 0 0 0;\n",
              "      width: 32px;\n",
              "    }\n",
              "\n",
              "    .colab-df-convert:hover {\n",
              "      background-color: #E2EBFA;\n",
              "      box-shadow: 0px 1px 2px rgba(60, 64, 67, 0.3), 0px 1px 3px 1px rgba(60, 64, 67, 0.15);\n",
              "      fill: #174EA6;\n",
              "    }\n",
              "\n",
              "    [theme=dark] .colab-df-convert {\n",
              "      background-color: #3B4455;\n",
              "      fill: #D2E3FC;\n",
              "    }\n",
              "\n",
              "    [theme=dark] .colab-df-convert:hover {\n",
              "      background-color: #434B5C;\n",
              "      box-shadow: 0px 1px 3px 1px rgba(0, 0, 0, 0.15);\n",
              "      filter: drop-shadow(0px 1px 2px rgba(0, 0, 0, 0.3));\n",
              "      fill: #FFFFFF;\n",
              "    }\n",
              "  </style>\n",
              "\n",
              "      <script>\n",
              "        const buttonEl =\n",
              "          document.querySelector('#df-ff160105-3af8-441b-abf2-13aee0e3699f button.colab-df-convert');\n",
              "        buttonEl.style.display =\n",
              "          google.colab.kernel.accessAllowed ? 'block' : 'none';\n",
              "\n",
              "        async function convertToInteractive(key) {\n",
              "          const element = document.querySelector('#df-ff160105-3af8-441b-abf2-13aee0e3699f');\n",
              "          const dataTable =\n",
              "            await google.colab.kernel.invokeFunction('convertToInteractive',\n",
              "                                                     [key], {});\n",
              "          if (!dataTable) return;\n",
              "\n",
              "          const docLinkHtml = 'Like what you see? Visit the ' +\n",
              "            '<a target=\"_blank\" href=https://colab.research.google.com/notebooks/data_table.ipynb>data table notebook</a>'\n",
              "            + ' to learn more about interactive tables.';\n",
              "          element.innerHTML = '';\n",
              "          dataTable['output_type'] = 'display_data';\n",
              "          await google.colab.output.renderOutput(dataTable, element);\n",
              "          const docLink = document.createElement('div');\n",
              "          docLink.innerHTML = docLinkHtml;\n",
              "          element.appendChild(docLink);\n",
              "        }\n",
              "      </script>\n",
              "    </div>\n",
              "  </div>\n",
              "  "
            ]
          },
          "metadata": {},
          "execution_count": 16
        }
      ]
    },
    {
      "cell_type": "code",
      "source": [
        "scaler=MinMaxScaler(feature_range=(0,1))\n",
        "training_set_scaler=scaler.fit_transform(np.array(df1).reshape(-1,1))"
      ],
      "metadata": {
        "id": "1CsuX2F0KEJK"
      },
      "execution_count": 17,
      "outputs": []
    },
    {
      "cell_type": "code",
      "source": [
        "training_set_scaler"
      ],
      "metadata": {
        "colab": {
          "base_uri": "https://localhost:8080/"
        },
        "id": "6IX_8iqkKFzE",
        "outputId": "f0e1bc14-2629-434f-bef9-dbd4df8dcd1a"
      },
      "execution_count": 18,
      "outputs": [
        {
          "output_type": "execute_result",
          "data": {
            "text/plain": [
              "array([[0.62418301],\n",
              "       [0.62214052],\n",
              "       [0.62622549],\n",
              "       ...,\n",
              "       [0.1621732 ],\n",
              "       [0.16319444],\n",
              "       [0.16584967]])"
            ]
          },
          "metadata": {},
          "execution_count": 18
        }
      ]
    },
    {
      "cell_type": "code",
      "source": [
        "train_size1= int(len(training_set_scaler)*0.65)\n",
        "test_size1=int(len(training_set_scaler))-train_size1\n",
        "train_data1,test_data1=training_set_scaler[0:train_size1,:],training_set_scaler[train_size1:len(df),:1] "
      ],
      "metadata": {
        "id": "Wl_TlaYCKNj-"
      },
      "execution_count": 19,
      "outputs": []
    },
    {
      "cell_type": "code",
      "source": [
        "train_size1"
      ],
      "metadata": {
        "colab": {
          "base_uri": "https://localhost:8080/"
        },
        "id": "ZF5bZT93KO1U",
        "outputId": "fa0ec6a5-227d-4265-8b8a-8dfdd7c7237f"
      },
      "execution_count": 20,
      "outputs": [
        {
          "output_type": "execute_result",
          "data": {
            "text/plain": [
              "1322"
            ]
          },
          "metadata": {},
          "execution_count": 20
        }
      ]
    },
    {
      "cell_type": "code",
      "source": [
        "def create_dataset(dataset,time_step=1):\n",
        "    dataX, dataY = [], []\n",
        "    for i in range(len(dataset)-time_step-1):\n",
        "        a = dataset[i:(i+time_step), 0]   ###i=0, 0,1,2,3-----99   100 \n",
        "        dataX.append(a)\n",
        "        dataY.append(dataset[i + time_step, 0])\n",
        "    return np.array(dataX), np.array(dataY)"
      ],
      "metadata": {
        "id": "nfMvZrJiKQiC"
      },
      "execution_count": 21,
      "outputs": []
    },
    {
      "cell_type": "code",
      "source": [
        "time_step=100\n",
        "x_train, y_train=create_dataset(train_data1, time_step)\n",
        "x_test, y_test= create_dataset(test_data1, time_step)"
      ],
      "metadata": {
        "id": "mBPPLASsKSE8"
      },
      "execution_count": 22,
      "outputs": []
    },
    {
      "cell_type": "code",
      "source": [
        "print(x_train.shape,y_train.shape)"
      ],
      "metadata": {
        "colab": {
          "base_uri": "https://localhost:8080/"
        },
        "id": "j6TvKPEDKTXn",
        "outputId": "e3a741e3-decf-4de9-cbfc-15efcbe2a58e"
      },
      "execution_count": 23,
      "outputs": [
        {
          "output_type": "stream",
          "name": "stdout",
          "text": [
            "(1221, 100) (1221,)\n"
          ]
        }
      ]
    },
    {
      "cell_type": "code",
      "source": [
        "x_test.shape"
      ],
      "metadata": {
        "colab": {
          "base_uri": "https://localhost:8080/"
        },
        "id": "Nm43mtCEKakn",
        "outputId": "ad7cbba2-99e6-4d04-d7ba-96ff53c4bb89"
      },
      "execution_count": 24,
      "outputs": [
        {
          "output_type": "execute_result",
          "data": {
            "text/plain": [
              "(612, 100)"
            ]
          },
          "metadata": {},
          "execution_count": 24
        }
      ]
    },
    {
      "cell_type": "code",
      "source": [
        "y_test.shape"
      ],
      "metadata": {
        "colab": {
          "base_uri": "https://localhost:8080/"
        },
        "id": "GkpOihcIKb3f",
        "outputId": "1aabed28-e105-4455-a021-b260c863de32"
      },
      "execution_count": 25,
      "outputs": [
        {
          "output_type": "execute_result",
          "data": {
            "text/plain": [
              "(612,)"
            ]
          },
          "metadata": {},
          "execution_count": 25
        }
      ]
    },
    {
      "cell_type": "code",
      "source": [
        "x_train = x_train.reshape(x_train.shape[0],x_train.shape[1] , 1)\n",
        "x_test = x_test.reshape(x_test.shape[0],x_test.shape[1] , 1)"
      ],
      "metadata": {
        "id": "oTLZN91sKeB9"
      },
      "execution_count": 26,
      "outputs": []
    },
    {
      "cell_type": "code",
      "source": [
        "model = Sequential()\n",
        "model.add(LSTM(50, return_sequences=True, input_shape=(100,1)))\n",
        "model.add(LSTM(50, return_sequences=True, input_shape=(100,1)))\n",
        "model.add(LSTM(50))\n",
        "model.add(Dense(1))\n",
        "model.compile(loss='mean_squared_error', optimizer='adam', metrics='acc')"
      ],
      "metadata": {
        "id": "igKAkDq0KgL-"
      },
      "execution_count": 27,
      "outputs": []
    },
    {
      "cell_type": "code",
      "source": [
        "model.summary()"
      ],
      "metadata": {
        "colab": {
          "base_uri": "https://localhost:8080/"
        },
        "id": "_LArkaWBKhXX",
        "outputId": "4bd7e2d8-aa8b-41f4-c5bf-83098eaee21f"
      },
      "execution_count": 28,
      "outputs": [
        {
          "output_type": "stream",
          "name": "stdout",
          "text": [
            "Model: \"sequential\"\n",
            "_________________________________________________________________\n",
            " Layer (type)                Output Shape              Param #   \n",
            "=================================================================\n",
            " lstm (LSTM)                 (None, 100, 50)           10400     \n",
            "                                                                 \n",
            " lstm_1 (LSTM)               (None, 100, 50)           20200     \n",
            "                                                                 \n",
            " lstm_2 (LSTM)               (None, 50)                20200     \n",
            "                                                                 \n",
            " dense (Dense)               (None, 1)                 51        \n",
            "                                                                 \n",
            "=================================================================\n",
            "Total params: 50,851\n",
            "Trainable params: 50,851\n",
            "Non-trainable params: 0\n",
            "_________________________________________________________________\n"
          ]
        }
      ]
    },
    {
      "cell_type": "code",
      "source": [
        "model.fit(x_train, y_train, validation_data = (x_test, y_test), epochs = 75, batch_size = 64, verbose = 1)"
      ],
      "metadata": {
        "colab": {
          "base_uri": "https://localhost:8080/"
        },
        "id": "I2InYKYqKn7c",
        "outputId": "485d307f-d78e-4c5b-8246-d2c826e4ff6c"
      },
      "execution_count": 29,
      "outputs": [
        {
          "output_type": "stream",
          "name": "stdout",
          "text": [
            "Epoch 1/75\n",
            "20/20 [==============================] - 12s 279ms/step - loss: 0.0223 - acc: 8.1900e-04 - val_loss: 0.0049 - val_acc: 0.0016\n",
            "Epoch 2/75\n",
            "20/20 [==============================] - 4s 198ms/step - loss: 0.0025 - acc: 8.1900e-04 - val_loss: 0.0011 - val_acc: 0.0016\n",
            "Epoch 3/75\n",
            "20/20 [==============================] - 4s 198ms/step - loss: 0.0018 - acc: 8.1900e-04 - val_loss: 8.2656e-04 - val_acc: 0.0016\n",
            "Epoch 4/75\n",
            "20/20 [==============================] - 4s 199ms/step - loss: 0.0016 - acc: 8.1900e-04 - val_loss: 0.0011 - val_acc: 0.0016\n",
            "Epoch 5/75\n",
            "20/20 [==============================] - 4s 199ms/step - loss: 0.0015 - acc: 8.1900e-04 - val_loss: 7.8016e-04 - val_acc: 0.0016\n",
            "Epoch 6/75\n",
            "20/20 [==============================] - 4s 201ms/step - loss: 0.0013 - acc: 8.1900e-04 - val_loss: 0.0011 - val_acc: 0.0016\n",
            "Epoch 7/75\n",
            "20/20 [==============================] - 4s 199ms/step - loss: 0.0013 - acc: 8.1900e-04 - val_loss: 0.0014 - val_acc: 0.0016\n",
            "Epoch 8/75\n",
            "20/20 [==============================] - 6s 322ms/step - loss: 0.0012 - acc: 8.1900e-04 - val_loss: 7.9985e-04 - val_acc: 0.0016\n",
            "Epoch 9/75\n",
            "20/20 [==============================] - 4s 196ms/step - loss: 0.0011 - acc: 8.1900e-04 - val_loss: 0.0011 - val_acc: 0.0016\n",
            "Epoch 10/75\n",
            "20/20 [==============================] - 4s 200ms/step - loss: 0.0013 - acc: 8.1900e-04 - val_loss: 8.3101e-04 - val_acc: 0.0016\n",
            "Epoch 11/75\n",
            "20/20 [==============================] - 4s 202ms/step - loss: 0.0011 - acc: 8.1900e-04 - val_loss: 9.3494e-04 - val_acc: 0.0016\n",
            "Epoch 12/75\n",
            "20/20 [==============================] - 4s 199ms/step - loss: 0.0011 - acc: 8.1900e-04 - val_loss: 7.1020e-04 - val_acc: 0.0016\n",
            "Epoch 13/75\n",
            "20/20 [==============================] - 4s 199ms/step - loss: 0.0013 - acc: 8.1900e-04 - val_loss: 9.4557e-04 - val_acc: 0.0016\n",
            "Epoch 14/75\n",
            "20/20 [==============================] - 4s 202ms/step - loss: 9.4195e-04 - acc: 8.1900e-04 - val_loss: 8.3441e-04 - val_acc: 0.0016\n",
            "Epoch 15/75\n",
            "20/20 [==============================] - 4s 201ms/step - loss: 8.4910e-04 - acc: 8.1900e-04 - val_loss: 9.9815e-04 - val_acc: 0.0016\n",
            "Epoch 16/75\n",
            "20/20 [==============================] - 4s 202ms/step - loss: 0.0012 - acc: 8.1900e-04 - val_loss: 0.0011 - val_acc: 0.0016\n",
            "Epoch 17/75\n",
            "20/20 [==============================] - 4s 198ms/step - loss: 9.5033e-04 - acc: 8.1900e-04 - val_loss: 7.1443e-04 - val_acc: 0.0016\n",
            "Epoch 18/75\n",
            "20/20 [==============================] - 4s 203ms/step - loss: 9.0651e-04 - acc: 8.1900e-04 - val_loss: 7.5469e-04 - val_acc: 0.0016\n",
            "Epoch 19/75\n",
            "20/20 [==============================] - 5s 263ms/step - loss: 7.6605e-04 - acc: 8.1900e-04 - val_loss: 7.6669e-04 - val_acc: 0.0016\n",
            "Epoch 20/75\n",
            "20/20 [==============================] - 4s 204ms/step - loss: 7.8000e-04 - acc: 8.1900e-04 - val_loss: 9.1986e-04 - val_acc: 0.0016\n",
            "Epoch 21/75\n",
            "20/20 [==============================] - 4s 205ms/step - loss: 8.7554e-04 - acc: 8.1900e-04 - val_loss: 5.8358e-04 - val_acc: 0.0016\n",
            "Epoch 22/75\n",
            "20/20 [==============================] - 4s 200ms/step - loss: 7.1654e-04 - acc: 8.1900e-04 - val_loss: 6.8233e-04 - val_acc: 0.0016\n",
            "Epoch 23/75\n",
            "20/20 [==============================] - 4s 200ms/step - loss: 6.9376e-04 - acc: 8.1900e-04 - val_loss: 7.2595e-04 - val_acc: 0.0016\n",
            "Epoch 24/75\n",
            "20/20 [==============================] - 4s 205ms/step - loss: 9.1887e-04 - acc: 8.1900e-04 - val_loss: 0.0010 - val_acc: 0.0016\n",
            "Epoch 25/75\n",
            "20/20 [==============================] - 4s 198ms/step - loss: 6.9818e-04 - acc: 8.1900e-04 - val_loss: 6.8253e-04 - val_acc: 0.0016\n",
            "Epoch 26/75\n",
            "20/20 [==============================] - 4s 201ms/step - loss: 6.5485e-04 - acc: 8.1900e-04 - val_loss: 7.1642e-04 - val_acc: 0.0016\n",
            "Epoch 27/75\n",
            "20/20 [==============================] - 4s 199ms/step - loss: 6.5675e-04 - acc: 8.1900e-04 - val_loss: 5.6797e-04 - val_acc: 0.0016\n",
            "Epoch 28/75\n",
            "20/20 [==============================] - 4s 200ms/step - loss: 6.8915e-04 - acc: 8.1900e-04 - val_loss: 5.8586e-04 - val_acc: 0.0016\n",
            "Epoch 29/75\n",
            "20/20 [==============================] - 4s 202ms/step - loss: 6.2914e-04 - acc: 8.1900e-04 - val_loss: 7.0029e-04 - val_acc: 0.0016\n",
            "Epoch 30/75\n",
            "20/20 [==============================] - 4s 199ms/step - loss: 8.0112e-04 - acc: 8.1900e-04 - val_loss: 7.4848e-04 - val_acc: 0.0016\n",
            "Epoch 31/75\n",
            "20/20 [==============================] - 4s 198ms/step - loss: 6.2271e-04 - acc: 8.1900e-04 - val_loss: 6.7726e-04 - val_acc: 0.0016\n",
            "Epoch 32/75\n",
            "20/20 [==============================] - 4s 202ms/step - loss: 6.2445e-04 - acc: 8.1900e-04 - val_loss: 5.7055e-04 - val_acc: 0.0016\n",
            "Epoch 33/75\n",
            "20/20 [==============================] - 4s 198ms/step - loss: 6.5723e-04 - acc: 8.1900e-04 - val_loss: 7.4749e-04 - val_acc: 0.0016\n",
            "Epoch 34/75\n",
            "20/20 [==============================] - 4s 204ms/step - loss: 5.7403e-04 - acc: 8.1900e-04 - val_loss: 6.9761e-04 - val_acc: 0.0016\n",
            "Epoch 35/75\n",
            "20/20 [==============================] - 4s 197ms/step - loss: 5.5917e-04 - acc: 8.1900e-04 - val_loss: 6.1982e-04 - val_acc: 0.0016\n",
            "Epoch 36/75\n",
            "20/20 [==============================] - 4s 197ms/step - loss: 5.6507e-04 - acc: 8.1900e-04 - val_loss: 7.0765e-04 - val_acc: 0.0016\n",
            "Epoch 37/75\n",
            "20/20 [==============================] - 4s 200ms/step - loss: 5.6481e-04 - acc: 8.1900e-04 - val_loss: 8.0782e-04 - val_acc: 0.0016\n",
            "Epoch 38/75\n",
            "20/20 [==============================] - 4s 198ms/step - loss: 5.4535e-04 - acc: 8.1900e-04 - val_loss: 5.5825e-04 - val_acc: 0.0016\n",
            "Epoch 39/75\n",
            "20/20 [==============================] - 4s 202ms/step - loss: 5.7843e-04 - acc: 8.1900e-04 - val_loss: 4.7296e-04 - val_acc: 0.0016\n",
            "Epoch 40/75\n",
            "20/20 [==============================] - 4s 202ms/step - loss: 6.1025e-04 - acc: 8.1900e-04 - val_loss: 6.1623e-04 - val_acc: 0.0016\n",
            "Epoch 41/75\n",
            "20/20 [==============================] - 4s 202ms/step - loss: 5.3707e-04 - acc: 8.1900e-04 - val_loss: 5.6056e-04 - val_acc: 0.0016\n",
            "Epoch 42/75\n",
            "20/20 [==============================] - 4s 203ms/step - loss: 5.6235e-04 - acc: 8.1900e-04 - val_loss: 5.8605e-04 - val_acc: 0.0016\n",
            "Epoch 43/75\n",
            "20/20 [==============================] - 4s 200ms/step - loss: 5.1610e-04 - acc: 8.1900e-04 - val_loss: 5.7199e-04 - val_acc: 0.0016\n",
            "Epoch 44/75\n",
            "20/20 [==============================] - 4s 200ms/step - loss: 5.3677e-04 - acc: 8.1900e-04 - val_loss: 6.0937e-04 - val_acc: 0.0016\n",
            "Epoch 45/75\n",
            "20/20 [==============================] - 4s 204ms/step - loss: 5.7723e-04 - acc: 8.1900e-04 - val_loss: 5.0773e-04 - val_acc: 0.0016\n",
            "Epoch 46/75\n",
            "20/20 [==============================] - 4s 198ms/step - loss: 4.8043e-04 - acc: 8.1900e-04 - val_loss: 4.5695e-04 - val_acc: 0.0016\n",
            "Epoch 47/75\n",
            "20/20 [==============================] - 4s 200ms/step - loss: 4.9377e-04 - acc: 8.1900e-04 - val_loss: 4.6576e-04 - val_acc: 0.0016\n",
            "Epoch 48/75\n",
            "20/20 [==============================] - 4s 204ms/step - loss: 5.2173e-04 - acc: 8.1900e-04 - val_loss: 4.9378e-04 - val_acc: 0.0016\n",
            "Epoch 49/75\n",
            "20/20 [==============================] - 4s 200ms/step - loss: 4.4469e-04 - acc: 8.1900e-04 - val_loss: 6.4650e-04 - val_acc: 0.0016\n",
            "Epoch 50/75\n",
            "20/20 [==============================] - 4s 201ms/step - loss: 5.2277e-04 - acc: 8.1900e-04 - val_loss: 5.8466e-04 - val_acc: 0.0016\n",
            "Epoch 51/75\n",
            "20/20 [==============================] - 4s 199ms/step - loss: 4.7488e-04 - acc: 8.1900e-04 - val_loss: 4.8869e-04 - val_acc: 0.0016\n",
            "Epoch 52/75\n",
            "20/20 [==============================] - 4s 201ms/step - loss: 4.5250e-04 - acc: 8.1900e-04 - val_loss: 4.9826e-04 - val_acc: 0.0016\n",
            "Epoch 53/75\n",
            "20/20 [==============================] - 4s 202ms/step - loss: 4.2092e-04 - acc: 8.1900e-04 - val_loss: 4.5172e-04 - val_acc: 0.0016\n",
            "Epoch 54/75\n",
            "20/20 [==============================] - 4s 200ms/step - loss: 4.5311e-04 - acc: 8.1900e-04 - val_loss: 4.4949e-04 - val_acc: 0.0016\n",
            "Epoch 55/75\n",
            "20/20 [==============================] - 4s 199ms/step - loss: 6.2964e-04 - acc: 8.1900e-04 - val_loss: 6.5991e-04 - val_acc: 0.0016\n",
            "Epoch 56/75\n",
            "20/20 [==============================] - 5s 259ms/step - loss: 4.3550e-04 - acc: 8.1900e-04 - val_loss: 7.3984e-04 - val_acc: 0.0016\n",
            "Epoch 57/75\n",
            "20/20 [==============================] - 5s 252ms/step - loss: 7.4185e-04 - acc: 8.1900e-04 - val_loss: 3.9209e-04 - val_acc: 0.0016\n",
            "Epoch 58/75\n",
            "20/20 [==============================] - 4s 201ms/step - loss: 4.1916e-04 - acc: 8.1900e-04 - val_loss: 6.6985e-04 - val_acc: 0.0016\n",
            "Epoch 59/75\n",
            "20/20 [==============================] - 4s 201ms/step - loss: 5.2586e-04 - acc: 8.1900e-04 - val_loss: 3.4494e-04 - val_acc: 0.0016\n",
            "Epoch 60/75\n",
            "20/20 [==============================] - 4s 203ms/step - loss: 4.2922e-04 - acc: 8.1900e-04 - val_loss: 3.6481e-04 - val_acc: 0.0016\n",
            "Epoch 61/75\n",
            "20/20 [==============================] - 4s 204ms/step - loss: 4.0682e-04 - acc: 8.1900e-04 - val_loss: 3.6490e-04 - val_acc: 0.0016\n",
            "Epoch 62/75\n",
            "20/20 [==============================] - 4s 203ms/step - loss: 3.8387e-04 - acc: 8.1900e-04 - val_loss: 4.0299e-04 - val_acc: 0.0016\n",
            "Epoch 63/75\n",
            "20/20 [==============================] - 4s 203ms/step - loss: 3.8053e-04 - acc: 8.1900e-04 - val_loss: 4.5835e-04 - val_acc: 0.0016\n",
            "Epoch 64/75\n",
            "20/20 [==============================] - 4s 199ms/step - loss: 3.6844e-04 - acc: 8.1900e-04 - val_loss: 3.5066e-04 - val_acc: 0.0016\n",
            "Epoch 65/75\n",
            "20/20 [==============================] - 4s 203ms/step - loss: 3.5721e-04 - acc: 8.1900e-04 - val_loss: 4.2308e-04 - val_acc: 0.0016\n",
            "Epoch 66/75\n",
            "20/20 [==============================] - 4s 199ms/step - loss: 3.5559e-04 - acc: 8.1900e-04 - val_loss: 3.7392e-04 - val_acc: 0.0016\n",
            "Epoch 67/75\n",
            "20/20 [==============================] - 4s 199ms/step - loss: 3.7742e-04 - acc: 8.1900e-04 - val_loss: 3.1173e-04 - val_acc: 0.0016\n",
            "Epoch 68/75\n",
            "20/20 [==============================] - 4s 200ms/step - loss: 5.2717e-04 - acc: 8.1900e-04 - val_loss: 4.7487e-04 - val_acc: 0.0016\n",
            "Epoch 69/75\n",
            "20/20 [==============================] - 4s 197ms/step - loss: 4.0594e-04 - acc: 8.1900e-04 - val_loss: 3.7314e-04 - val_acc: 0.0016\n",
            "Epoch 70/75\n",
            "20/20 [==============================] - 4s 204ms/step - loss: 3.4396e-04 - acc: 8.1900e-04 - val_loss: 2.7525e-04 - val_acc: 0.0016\n",
            "Epoch 71/75\n",
            "20/20 [==============================] - 4s 200ms/step - loss: 3.4280e-04 - acc: 8.1900e-04 - val_loss: 4.9077e-04 - val_acc: 0.0016\n",
            "Epoch 72/75\n",
            "20/20 [==============================] - 4s 201ms/step - loss: 3.2372e-04 - acc: 8.1900e-04 - val_loss: 2.9589e-04 - val_acc: 0.0016\n",
            "Epoch 73/75\n",
            "20/20 [==============================] - 4s 202ms/step - loss: 3.7904e-04 - acc: 8.1900e-04 - val_loss: 2.8145e-04 - val_acc: 0.0016\n",
            "Epoch 74/75\n",
            "20/20 [==============================] - 4s 203ms/step - loss: 3.0508e-04 - acc: 8.1900e-04 - val_loss: 3.0944e-04 - val_acc: 0.0016\n",
            "Epoch 75/75\n",
            "20/20 [==============================] - 4s 197ms/step - loss: 3.1198e-04 - acc: 8.1900e-04 - val_loss: 3.3742e-04 - val_acc: 0.0016\n"
          ]
        },
        {
          "output_type": "execute_result",
          "data": {
            "text/plain": [
              "<keras.callbacks.History at 0x7f107c3a6c40>"
            ]
          },
          "metadata": {},
          "execution_count": 29
        }
      ]
    },
    {
      "cell_type": "code",
      "source": [
        "train_predict1=model.predict(x_train)\n",
        "test_predict1=model.predict(x_test)\n",
        "#Transformback to original form\n",
        "train_predict1=scaler.inverse_transform(train_predict1)\n",
        "test_predict1=scaler.inverse_transform(test_predict1)"
      ],
      "metadata": {
        "colab": {
          "base_uri": "https://localhost:8080/"
        },
        "id": "Tz8HbnygMCou",
        "outputId": "df3932f0-bd2f-40fc-8bb4-2e9dc5c1e327"
      },
      "execution_count": 30,
      "outputs": [
        {
          "output_type": "stream",
          "name": "stdout",
          "text": [
            "39/39 [==============================] - 3s 36ms/step\n",
            "20/20 [==============================] - 1s 36ms/step\n"
          ]
        }
      ]
    },
    {
      "cell_type": "code",
      "source": [
        "math.sqrt(mean_squared_error(y_train,train_predict1))"
      ],
      "metadata": {
        "colab": {
          "base_uri": "https://localhost:8080/"
        },
        "id": "2lG1dnJBMG-C",
        "outputId": "550547e0-143a-4e13-fffb-d93f9ca57f03"
      },
      "execution_count": 31,
      "outputs": [
        {
          "output_type": "execute_result",
          "data": {
            "text/plain": [
              "165.04293833165923"
            ]
          },
          "metadata": {},
          "execution_count": 31
        }
      ]
    },
    {
      "cell_type": "code",
      "source": [
        "math.sqrt(mean_squared_error(y_test,test_predict1))"
      ],
      "metadata": {
        "colab": {
          "base_uri": "https://localhost:8080/"
        },
        "id": "aYwgV-bKMIJD",
        "outputId": "c2f62e1f-a8a8-4ada-fdb6-2dac075a9795"
      },
      "execution_count": 32,
      "outputs": [
        {
          "output_type": "execute_result",
          "data": {
            "text/plain": [
              "116.71510493103541"
            ]
          },
          "metadata": {},
          "execution_count": 32
        }
      ]
    },
    {
      "cell_type": "code",
      "source": [
        "### Plotting \n",
        "# shift train predictions for plotting\n",
        "look_back=100\n",
        "trainPredictPlot = np.empty_like(training_set_scaler)\n",
        "trainPredictPlot[:, :] = np.nan\n",
        "trainPredictPlot[look_back:len(train_predict1)+look_back, :] = train_predict1\n",
        "\n",
        "# shift test predictions for plotting\n",
        "testPredictPlot = np.empty_like(training_set_scaler)\n",
        "testPredictPlot[:, :] = np.nan\n",
        "testPredictPlot[len(train_predict1)+(look_back*2)+1:len(df1)-1, :] = test_predict1\n",
        "\n",
        "# plot baseline and predictions\n",
        "plt.figure(figsize=(10,5))\n",
        "plt.plot(scaler.inverse_transform(training_set_scaler))\n",
        "plt.plot(trainPredictPlot)\n",
        "plt.plot(testPredictPlot)\n",
        "plt.show()"
      ],
      "metadata": {
        "colab": {
          "base_uri": "https://localhost:8080/",
          "height": 320
        },
        "id": "rkltMkWgMJwL",
        "outputId": "c61e701b-f7cf-4ed5-a7ba-d1498acdec9a"
      },
      "execution_count": 33,
      "outputs": [
        {
          "output_type": "display_data",
          "data": {
            "text/plain": [
              "<Figure size 720x360 with 1 Axes>"
            ],
            "image/png": "[encoded data removed]"
          },
          "metadata": {
            "needs_background": "light"
          }
        }
      ]
    }
  ]
}